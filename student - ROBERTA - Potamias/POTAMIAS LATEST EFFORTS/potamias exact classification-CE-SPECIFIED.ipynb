{
 "cells": [
  {
   "cell_type": "code",
   "execution_count": 1,
   "metadata": {},
   "outputs": [],
   "source": [
    "# Import the necessary libraries\n",
    "\n",
    "import numpy as np\n",
    "import pandas as pd\n",
    "import torch\n",
    "from transformers import RobertaModel, RobertaTokenizer\n",
    "from torch import nn\n",
    "from torch.autograd import Variable\n",
    "from torch.utils.data import DataLoader\n",
    "import torch.nn.functional as F"
   ]
  },
  {
   "cell_type": "code",
   "execution_count": 2,
   "metadata": {},
   "outputs": [],
   "source": [
    "# Initialize the roberta tokenizer and model \n",
    "\n",
    "tokenizer = RobertaTokenizer.from_pretrained('roberta-base')\n",
    "roberta_model = RobertaModel.from_pretrained('roberta-base')"
   ]
  },
  {
   "cell_type": "code",
   "execution_count": 3,
   "metadata": {},
   "outputs": [],
   "source": [
    "device=\"cuda:0\"\n",
    "roberta_model = roberta_model.to(device)"
   ]
  },
  {
   "cell_type": "code",
   "execution_count": 4,
   "metadata": {},
   "outputs": [],
   "source": [
    "# Load input data\n",
    "\n",
    "\n",
    "df_train = pd.read_csv(\"train_8k.csv\")\n",
    "df_valid = pd.read_csv(\"test_4k.csv\")\n",
    "df_trial = pd.read_csv(\"trial_1k.csv\")\n"
   ]
  },
  {
   "cell_type": "code",
   "execution_count": 5,
   "metadata": {},
   "outputs": [
    {
     "data": {
      "text/html": [
       "<div>\n",
       "<style scoped>\n",
       "    .dataframe tbody tr th:only-of-type {\n",
       "        vertical-align: middle;\n",
       "    }\n",
       "\n",
       "    .dataframe tbody tr th {\n",
       "        vertical-align: top;\n",
       "    }\n",
       "\n",
       "    .dataframe thead th {\n",
       "        text-align: right;\n",
       "    }\n",
       "</style>\n",
       "<table border=\"1\" class=\"dataframe\">\n",
       "  <thead>\n",
       "    <tr style=\"text-align: right;\">\n",
       "      <th></th>\n",
       "      <th>old id</th>\n",
       "      <th>new id</th>\n",
       "      <th>label</th>\n",
       "      <th>text</th>\n",
       "      <th>int_label</th>\n",
       "    </tr>\n",
       "  </thead>\n",
       "  <tbody>\n",
       "    <tr>\n",
       "      <th>0</th>\n",
       "      <td>472189928340606976</td>\n",
       "      <td>519632796449378304</td>\n",
       "      <td>-3.99</td>\n",
       "      <td>I just love working for 6.5 hours without a br...</td>\n",
       "      <td>-4</td>\n",
       "    </tr>\n",
       "    <tr>\n",
       "      <th>1</th>\n",
       "      <td>472440774785650688</td>\n",
       "      <td>519632825167773696</td>\n",
       "      <td>-3.92</td>\n",
       "      <td>The happy song does not invoke good feelings. ...</td>\n",
       "      <td>-4</td>\n",
       "    </tr>\n",
       "    <tr>\n",
       "      <th>2</th>\n",
       "      <td>473085653454827520</td>\n",
       "      <td>519632853982650370</td>\n",
       "      <td>-2.22</td>\n",
       "      <td>Having to run to the train first thing in the ...</td>\n",
       "      <td>-2</td>\n",
       "    </tr>\n",
       "    <tr>\n",
       "      <th>3</th>\n",
       "      <td>463445012374499328</td>\n",
       "      <td>519632882940129280</td>\n",
       "      <td>-0.56</td>\n",
       "      <td>@OmniJerBear haha should have had #sarcasm at ...</td>\n",
       "      <td>-1</td>\n",
       "    </tr>\n",
       "    <tr>\n",
       "      <th>4</th>\n",
       "      <td>463501257110724610</td>\n",
       "      <td>519632911473987584</td>\n",
       "      <td>-1.27</td>\n",
       "      <td>Really excited for these last few days of scho...</td>\n",
       "      <td>-1</td>\n",
       "    </tr>\n",
       "  </tbody>\n",
       "</table>\n",
       "</div>"
      ],
      "text/plain": [
       "               old id              new id  label  \\\n",
       "0  472189928340606976  519632796449378304  -3.99   \n",
       "1  472440774785650688  519632825167773696  -3.92   \n",
       "2  473085653454827520  519632853982650370  -2.22   \n",
       "3  463445012374499328  519632882940129280  -0.56   \n",
       "4  463501257110724610  519632911473987584  -1.27   \n",
       "\n",
       "                                                text  int_label  \n",
       "0  I just love working for 6.5 hours without a br...         -4  \n",
       "1  The happy song does not invoke good feelings. ...         -4  \n",
       "2  Having to run to the train first thing in the ...         -2  \n",
       "3  @OmniJerBear haha should have had #sarcasm at ...         -1  \n",
       "4  Really excited for these last few days of scho...         -1  "
      ]
     },
     "execution_count": 5,
     "metadata": {},
     "output_type": "execute_result"
    }
   ],
   "source": [
    "df_train.head()"
   ]
  },
  {
   "cell_type": "code",
   "execution_count": 6,
   "metadata": {},
   "outputs": [
    {
     "data": {
      "text/plain": [
       "(7985, 5)"
      ]
     },
     "execution_count": 6,
     "metadata": {},
     "output_type": "execute_result"
    }
   ],
   "source": [
    "df_train.shape"
   ]
  },
  {
   "cell_type": "code",
   "execution_count": 7,
   "metadata": {},
   "outputs": [],
   "source": [
    "df_train = df_train.drop(columns = ['old id', 'new id', 'label'])"
   ]
  },
  {
   "cell_type": "code",
   "execution_count": 8,
   "metadata": {},
   "outputs": [
    {
     "data": {
      "text/plain": [
       "-3    2966\n",
       "-2    2931\n",
       "-1     860\n",
       "-4     363\n",
       " 0     344\n",
       " 2     195\n",
       " 1     163\n",
       " 3     106\n",
       " 4      49\n",
       "-5       6\n",
       " 5       2\n",
       "Name: int_label, dtype: int64"
      ]
     },
     "execution_count": 8,
     "metadata": {},
     "output_type": "execute_result"
    }
   ],
   "source": [
    "df_train['int_label'].value_counts()"
   ]
  },
  {
   "cell_type": "code",
   "execution_count": 9,
   "metadata": {},
   "outputs": [],
   "source": [
    "df_train.rename(columns={'int_label': 'label'}, inplace=True)\n",
    "df_train = df_train[[\"label\", \"text\"]]"
   ]
  },
  {
   "cell_type": "code",
   "execution_count": 10,
   "metadata": {},
   "outputs": [
    {
     "data": {
      "text/html": [
       "<div>\n",
       "<style scoped>\n",
       "    .dataframe tbody tr th:only-of-type {\n",
       "        vertical-align: middle;\n",
       "    }\n",
       "\n",
       "    .dataframe tbody tr th {\n",
       "        vertical-align: top;\n",
       "    }\n",
       "\n",
       "    .dataframe thead th {\n",
       "        text-align: right;\n",
       "    }\n",
       "</style>\n",
       "<table border=\"1\" class=\"dataframe\">\n",
       "  <thead>\n",
       "    <tr style=\"text-align: right;\">\n",
       "      <th></th>\n",
       "      <th>label</th>\n",
       "      <th>text</th>\n",
       "    </tr>\n",
       "  </thead>\n",
       "  <tbody>\n",
       "    <tr>\n",
       "      <th>0</th>\n",
       "      <td>-4</td>\n",
       "      <td>I just love working for 6.5 hours without a br...</td>\n",
       "    </tr>\n",
       "    <tr>\n",
       "      <th>1</th>\n",
       "      <td>-4</td>\n",
       "      <td>The happy song does not invoke good feelings. ...</td>\n",
       "    </tr>\n",
       "    <tr>\n",
       "      <th>2</th>\n",
       "      <td>-2</td>\n",
       "      <td>Having to run to the train first thing in the ...</td>\n",
       "    </tr>\n",
       "    <tr>\n",
       "      <th>3</th>\n",
       "      <td>-1</td>\n",
       "      <td>@OmniJerBear haha should have had #sarcasm at ...</td>\n",
       "    </tr>\n",
       "    <tr>\n",
       "      <th>4</th>\n",
       "      <td>-1</td>\n",
       "      <td>Really excited for these last few days of scho...</td>\n",
       "    </tr>\n",
       "  </tbody>\n",
       "</table>\n",
       "</div>"
      ],
      "text/plain": [
       "   label                                               text\n",
       "0     -4  I just love working for 6.5 hours without a br...\n",
       "1     -4  The happy song does not invoke good feelings. ...\n",
       "2     -2  Having to run to the train first thing in the ...\n",
       "3     -1  @OmniJerBear haha should have had #sarcasm at ...\n",
       "4     -1  Really excited for these last few days of scho..."
      ]
     },
     "execution_count": 10,
     "metadata": {},
     "output_type": "execute_result"
    }
   ],
   "source": [
    "df_train.head()"
   ]
  },
  {
   "cell_type": "code",
   "execution_count": 11,
   "metadata": {},
   "outputs": [
    {
     "data": {
      "text/html": [
       "<div>\n",
       "<style scoped>\n",
       "    .dataframe tbody tr th:only-of-type {\n",
       "        vertical-align: middle;\n",
       "    }\n",
       "\n",
       "    .dataframe tbody tr th {\n",
       "        vertical-align: top;\n",
       "    }\n",
       "\n",
       "    .dataframe thead th {\n",
       "        text-align: right;\n",
       "    }\n",
       "</style>\n",
       "<table border=\"1\" class=\"dataframe\">\n",
       "  <thead>\n",
       "    <tr style=\"text-align: right;\">\n",
       "      <th></th>\n",
       "      <th>id</th>\n",
       "      <th>label</th>\n",
       "      <th>category</th>\n",
       "      <th>text</th>\n",
       "    </tr>\n",
       "  </thead>\n",
       "  <tbody>\n",
       "    <tr>\n",
       "      <th>0</th>\n",
       "      <td>5.376513e+17</td>\n",
       "      <td>-3</td>\n",
       "      <td>sarcasm</td>\n",
       "      <td>So great to come back to my dorm and find that...</td>\n",
       "    </tr>\n",
       "    <tr>\n",
       "      <th>1</th>\n",
       "      <td>5.383325e+17</td>\n",
       "      <td>-2</td>\n",
       "      <td>sarcasm</td>\n",
       "      <td>If jean howie my neighbour is at my mums weddi...</td>\n",
       "    </tr>\n",
       "    <tr>\n",
       "      <th>2</th>\n",
       "      <td>5.380508e+17</td>\n",
       "      <td>-3</td>\n",
       "      <td>sarcasm</td>\n",
       "      <td>@KTHopkins @MissKatiePrice LOL@ katie hopkins ...</td>\n",
       "    </tr>\n",
       "    <tr>\n",
       "      <th>3</th>\n",
       "      <td>5.380175e+17</td>\n",
       "      <td>-3</td>\n",
       "      <td>sarcasm</td>\n",
       "      <td>@stuarteagle QPR? They looked terrible yesterd...</td>\n",
       "    </tr>\n",
       "    <tr>\n",
       "      <th>4</th>\n",
       "      <td>5.379588e+17</td>\n",
       "      <td>0</td>\n",
       "      <td>sarcasm</td>\n",
       "      <td>Next! Jamie Foxx ft. 2 Chainz \"Party Ain't a P...</td>\n",
       "    </tr>\n",
       "  </tbody>\n",
       "</table>\n",
       "</div>"
      ],
      "text/plain": [
       "             id  label category  \\\n",
       "0  5.376513e+17     -3  sarcasm   \n",
       "1  5.383325e+17     -2  sarcasm   \n",
       "2  5.380508e+17     -3  sarcasm   \n",
       "3  5.380175e+17     -3  sarcasm   \n",
       "4  5.379588e+17      0  sarcasm   \n",
       "\n",
       "                                                text  \n",
       "0  So great to come back to my dorm and find that...  \n",
       "1  If jean howie my neighbour is at my mums weddi...  \n",
       "2  @KTHopkins @MissKatiePrice LOL@ katie hopkins ...  \n",
       "3  @stuarteagle QPR? They looked terrible yesterd...  \n",
       "4  Next! Jamie Foxx ft. 2 Chainz \"Party Ain't a P...  "
      ]
     },
     "execution_count": 11,
     "metadata": {},
     "output_type": "execute_result"
    }
   ],
   "source": [
    "df_valid.head()"
   ]
  },
  {
   "cell_type": "code",
   "execution_count": 12,
   "metadata": {},
   "outputs": [],
   "source": [
    "df_valid = df_valid.drop(columns = ['id', 'category'])"
   ]
  },
  {
   "cell_type": "code",
   "execution_count": 13,
   "metadata": {},
   "outputs": [
    {
     "data": {
      "text/html": [
       "<div>\n",
       "<style scoped>\n",
       "    .dataframe tbody tr th:only-of-type {\n",
       "        vertical-align: middle;\n",
       "    }\n",
       "\n",
       "    .dataframe tbody tr th {\n",
       "        vertical-align: top;\n",
       "    }\n",
       "\n",
       "    .dataframe thead th {\n",
       "        text-align: right;\n",
       "    }\n",
       "</style>\n",
       "<table border=\"1\" class=\"dataframe\">\n",
       "  <thead>\n",
       "    <tr style=\"text-align: right;\">\n",
       "      <th></th>\n",
       "      <th>id</th>\n",
       "      <th>label</th>\n",
       "      <th>text</th>\n",
       "      <th>int_label</th>\n",
       "    </tr>\n",
       "  </thead>\n",
       "  <tbody>\n",
       "    <tr>\n",
       "      <th>0</th>\n",
       "      <td>465424601124974592</td>\n",
       "      <td>-3.0</td>\n",
       "      <td>RT @BeckyMyers3: General studies exam tomorrow...</td>\n",
       "      <td>-3</td>\n",
       "    </tr>\n",
       "    <tr>\n",
       "      <th>1</th>\n",
       "      <td>465422141643845632</td>\n",
       "      <td>-3.4</td>\n",
       "      <td>RT @TheTweetOfGod: A racist NBA owner makes ab...</td>\n",
       "      <td>-3</td>\n",
       "    </tr>\n",
       "    <tr>\n",
       "      <th>2</th>\n",
       "      <td>465420676590231552</td>\n",
       "      <td>-2.8</td>\n",
       "      <td>Bit ironic Mo Farrah stars in the Weetabix adv...</td>\n",
       "      <td>-3</td>\n",
       "    </tr>\n",
       "    <tr>\n",
       "      <th>3</th>\n",
       "      <td>465420343344394240</td>\n",
       "      <td>-2.8</td>\n",
       "      <td>@JoshFreedman_ It is about as much an election...</td>\n",
       "      <td>-3</td>\n",
       "    </tr>\n",
       "    <tr>\n",
       "      <th>4</th>\n",
       "      <td>465414678978756609</td>\n",
       "      <td>-2.4</td>\n",
       "      <td>Just looked out the window. About as inviting ...</td>\n",
       "      <td>-2</td>\n",
       "    </tr>\n",
       "  </tbody>\n",
       "</table>\n",
       "</div>"
      ],
      "text/plain": [
       "                   id  label  \\\n",
       "0  465424601124974592   -3.0   \n",
       "1  465422141643845632   -3.4   \n",
       "2  465420676590231552   -2.8   \n",
       "3  465420343344394240   -2.8   \n",
       "4  465414678978756609   -2.4   \n",
       "\n",
       "                                                text  int_label  \n",
       "0  RT @BeckyMyers3: General studies exam tomorrow...         -3  \n",
       "1  RT @TheTweetOfGod: A racist NBA owner makes ab...         -3  \n",
       "2  Bit ironic Mo Farrah stars in the Weetabix adv...         -3  \n",
       "3  @JoshFreedman_ It is about as much an election...         -3  \n",
       "4  Just looked out the window. About as inviting ...         -2  "
      ]
     },
     "execution_count": 13,
     "metadata": {},
     "output_type": "execute_result"
    }
   ],
   "source": [
    "df_trial.head()"
   ]
  },
  {
   "cell_type": "code",
   "execution_count": 14,
   "metadata": {},
   "outputs": [],
   "source": [
    "df_trial = df_trial.drop(columns = ['id', 'label'])"
   ]
  },
  {
   "cell_type": "code",
   "execution_count": 15,
   "metadata": {},
   "outputs": [],
   "source": [
    "df_trial.rename(columns={'int_label': 'label'}, inplace=True)\n",
    "df_trial = df_trial[[\"label\", \"text\"]]"
   ]
  },
  {
   "cell_type": "code",
   "execution_count": 16,
   "metadata": {},
   "outputs": [
    {
     "data": {
      "text/plain": [
       "((7985, 2), (592, 2), (3957, 2))"
      ]
     },
     "execution_count": 16,
     "metadata": {},
     "output_type": "execute_result"
    }
   ],
   "source": [
    "df_train.shape, df_trial.shape, df_valid.shape"
   ]
  },
  {
   "cell_type": "code",
   "execution_count": 17,
   "metadata": {},
   "outputs": [],
   "source": [
    "df_train = pd.concat([df_train, df_trial], ignore_index=True)"
   ]
  },
  {
   "cell_type": "code",
   "execution_count": 18,
   "metadata": {},
   "outputs": [
    {
     "data": {
      "text/plain": [
       "((8577, 2), (3957, 2))"
      ]
     },
     "execution_count": 18,
     "metadata": {},
     "output_type": "execute_result"
    }
   ],
   "source": [
    "df_train.shape, df_valid.shape"
   ]
  },
  {
   "cell_type": "code",
   "execution_count": 19,
   "metadata": {},
   "outputs": [
    {
     "data": {
      "text/html": [
       "<div>\n",
       "<style scoped>\n",
       "    .dataframe tbody tr th:only-of-type {\n",
       "        vertical-align: middle;\n",
       "    }\n",
       "\n",
       "    .dataframe tbody tr th {\n",
       "        vertical-align: top;\n",
       "    }\n",
       "\n",
       "    .dataframe thead th {\n",
       "        text-align: right;\n",
       "    }\n",
       "</style>\n",
       "<table border=\"1\" class=\"dataframe\">\n",
       "  <thead>\n",
       "    <tr style=\"text-align: right;\">\n",
       "      <th></th>\n",
       "      <th>label</th>\n",
       "      <th>text</th>\n",
       "    </tr>\n",
       "  </thead>\n",
       "  <tbody>\n",
       "    <tr>\n",
       "      <th>0</th>\n",
       "      <td>-4</td>\n",
       "      <td>I just love working for 6.5 hours without a br...</td>\n",
       "    </tr>\n",
       "    <tr>\n",
       "      <th>1</th>\n",
       "      <td>-4</td>\n",
       "      <td>The happy song does not invoke good feelings. ...</td>\n",
       "    </tr>\n",
       "    <tr>\n",
       "      <th>2</th>\n",
       "      <td>-2</td>\n",
       "      <td>Having to run to the train first thing in the ...</td>\n",
       "    </tr>\n",
       "    <tr>\n",
       "      <th>3</th>\n",
       "      <td>-1</td>\n",
       "      <td>@OmniJerBear haha should have had #sarcasm at ...</td>\n",
       "    </tr>\n",
       "    <tr>\n",
       "      <th>4</th>\n",
       "      <td>-1</td>\n",
       "      <td>Really excited for these last few days of scho...</td>\n",
       "    </tr>\n",
       "  </tbody>\n",
       "</table>\n",
       "</div>"
      ],
      "text/plain": [
       "   label                                               text\n",
       "0     -4  I just love working for 6.5 hours without a br...\n",
       "1     -4  The happy song does not invoke good feelings. ...\n",
       "2     -2  Having to run to the train first thing in the ...\n",
       "3     -1  @OmniJerBear haha should have had #sarcasm at ...\n",
       "4     -1  Really excited for these last few days of scho..."
      ]
     },
     "execution_count": 19,
     "metadata": {},
     "output_type": "execute_result"
    }
   ],
   "source": [
    "df_train.head()"
   ]
  },
  {
   "cell_type": "code",
   "execution_count": 20,
   "metadata": {},
   "outputs": [
    {
     "data": {
      "text/html": [
       "<div>\n",
       "<style scoped>\n",
       "    .dataframe tbody tr th:only-of-type {\n",
       "        vertical-align: middle;\n",
       "    }\n",
       "\n",
       "    .dataframe tbody tr th {\n",
       "        vertical-align: top;\n",
       "    }\n",
       "\n",
       "    .dataframe thead th {\n",
       "        text-align: right;\n",
       "    }\n",
       "</style>\n",
       "<table border=\"1\" class=\"dataframe\">\n",
       "  <thead>\n",
       "    <tr style=\"text-align: right;\">\n",
       "      <th></th>\n",
       "      <th>label</th>\n",
       "      <th>text</th>\n",
       "    </tr>\n",
       "  </thead>\n",
       "  <tbody>\n",
       "    <tr>\n",
       "      <th>0</th>\n",
       "      <td>-3</td>\n",
       "      <td>So great to come back to my dorm and find that...</td>\n",
       "    </tr>\n",
       "    <tr>\n",
       "      <th>1</th>\n",
       "      <td>-2</td>\n",
       "      <td>If jean howie my neighbour is at my mums weddi...</td>\n",
       "    </tr>\n",
       "    <tr>\n",
       "      <th>2</th>\n",
       "      <td>-3</td>\n",
       "      <td>@KTHopkins @MissKatiePrice LOL@ katie hopkins ...</td>\n",
       "    </tr>\n",
       "    <tr>\n",
       "      <th>3</th>\n",
       "      <td>-3</td>\n",
       "      <td>@stuarteagle QPR? They looked terrible yesterd...</td>\n",
       "    </tr>\n",
       "    <tr>\n",
       "      <th>4</th>\n",
       "      <td>0</td>\n",
       "      <td>Next! Jamie Foxx ft. 2 Chainz \"Party Ain't a P...</td>\n",
       "    </tr>\n",
       "  </tbody>\n",
       "</table>\n",
       "</div>"
      ],
      "text/plain": [
       "   label                                               text\n",
       "0     -3  So great to come back to my dorm and find that...\n",
       "1     -2  If jean howie my neighbour is at my mums weddi...\n",
       "2     -3  @KTHopkins @MissKatiePrice LOL@ katie hopkins ...\n",
       "3     -3  @stuarteagle QPR? They looked terrible yesterd...\n",
       "4      0  Next! Jamie Foxx ft. 2 Chainz \"Party Ain't a P..."
      ]
     },
     "execution_count": 20,
     "metadata": {},
     "output_type": "execute_result"
    }
   ],
   "source": [
    "df_valid.head()"
   ]
  },
  {
   "cell_type": "code",
   "execution_count": 21,
   "metadata": {},
   "outputs": [],
   "source": [
    "from sklearn.preprocessing import LabelEncoder"
   ]
  },
  {
   "cell_type": "code",
   "execution_count": 22,
   "metadata": {},
   "outputs": [],
   "source": [
    "myle = LabelEncoder()"
   ]
  },
  {
   "cell_type": "code",
   "execution_count": 23,
   "metadata": {},
   "outputs": [],
   "source": [
    "df_train['label'] = myle.fit_transform(df_train['label'])\n",
    "\n",
    "df_valid['label'] = myle.fit_transform(df_valid['label'])"
   ]
  },
  {
   "cell_type": "code",
   "execution_count": 24,
   "metadata": {},
   "outputs": [
    {
     "data": {
      "text/plain": [
       "2     3191\n",
       "3     3067\n",
       "4      925\n",
       "1      410\n",
       "5      377\n",
       "7      218\n",
       "6      196\n",
       "8      126\n",
       "9       56\n",
       "0        8\n",
       "10       3\n",
       "Name: label, dtype: int64"
      ]
     },
     "execution_count": 24,
     "metadata": {},
     "output_type": "execute_result"
    }
   ],
   "source": [
    "df_train['label'].value_counts()"
   ]
  },
  {
   "cell_type": "code",
   "execution_count": 25,
   "metadata": {},
   "outputs": [
    {
     "data": {
      "text/plain": [
       "3     1530\n",
       "2      730\n",
       "4      671\n",
       "5      293\n",
       "8      201\n",
       "6      164\n",
       "7      150\n",
       "9      111\n",
       "1       99\n",
       "10       4\n",
       "0        4\n",
       "Name: label, dtype: int64"
      ]
     },
     "execution_count": 25,
     "metadata": {},
     "output_type": "execute_result"
    }
   ],
   "source": [
    "df_valid['label'].value_counts() "
   ]
  },
  {
   "cell_type": "code",
   "execution_count": 26,
   "metadata": {},
   "outputs": [],
   "source": [
    "tweets_train = df_train['text']\n",
    "tweets_valid = df_valid['text']\n",
    "\n",
    "tweets_train = tweets_train.tolist()\n",
    "tweets_valid = tweets_valid.tolist()"
   ]
  },
  {
   "cell_type": "code",
   "execution_count": 27,
   "metadata": {},
   "outputs": [],
   "source": [
    "tokens_train = tokenizer(tweets_train, truncation=True)\n",
    "tokens_valid = tokenizer(tweets_valid, truncation=True)"
   ]
  },
  {
   "cell_type": "code",
   "execution_count": 28,
   "metadata": {},
   "outputs": [],
   "source": [
    "df_train['tokens'] = tokens_train['input_ids']\n",
    "df_valid['tokens'] = tokens_valid['input_ids']"
   ]
  },
  {
   "cell_type": "code",
   "execution_count": 29,
   "metadata": {},
   "outputs": [
    {
     "data": {
      "text/plain": [
       "count    8577.000000\n",
       "mean       29.213361\n",
       "std        10.932552\n",
       "min         8.000000\n",
       "25%        22.000000\n",
       "50%        28.000000\n",
       "75%        35.000000\n",
       "max       512.000000\n",
       "Name: n_tok, dtype: float64"
      ]
     },
     "execution_count": 29,
     "metadata": {},
     "output_type": "execute_result"
    }
   ],
   "source": [
    "df_train['n_tok'] = df_train['tokens'].apply(len)\n",
    "df_valid['n_tok'] = df_valid['tokens'].apply(len)\n",
    "\n",
    "df_train['n_tok'].describe()"
   ]
  },
  {
   "cell_type": "code",
   "execution_count": 30,
   "metadata": {},
   "outputs": [
    {
     "data": {
      "text/html": [
       "<div>\n",
       "<style scoped>\n",
       "    .dataframe tbody tr th:only-of-type {\n",
       "        vertical-align: middle;\n",
       "    }\n",
       "\n",
       "    .dataframe tbody tr th {\n",
       "        vertical-align: top;\n",
       "    }\n",
       "\n",
       "    .dataframe thead th {\n",
       "        text-align: right;\n",
       "    }\n",
       "</style>\n",
       "<table border=\"1\" class=\"dataframe\">\n",
       "  <thead>\n",
       "    <tr style=\"text-align: right;\">\n",
       "      <th></th>\n",
       "      <th>label</th>\n",
       "      <th>text</th>\n",
       "      <th>tokens</th>\n",
       "      <th>n_tok</th>\n",
       "    </tr>\n",
       "  </thead>\n",
       "  <tbody>\n",
       "    <tr>\n",
       "      <th>0</th>\n",
       "      <td>1</td>\n",
       "      <td>I just love working for 6.5 hours without a br...</td>\n",
       "      <td>[0, 100, 95, 657, 447, 13, 231, 4, 245, 722, 3...</td>\n",
       "      <td>32</td>\n",
       "    </tr>\n",
       "    <tr>\n",
       "      <th>1</th>\n",
       "      <td>1</td>\n",
       "      <td>The happy song does not invoke good feelings. ...</td>\n",
       "      <td>[0, 133, 1372, 2214, 473, 45, 32550, 205, 6453...</td>\n",
       "      <td>21</td>\n",
       "    </tr>\n",
       "    <tr>\n",
       "      <th>2</th>\n",
       "      <td>3</td>\n",
       "      <td>Having to run to the train first thing in the ...</td>\n",
       "      <td>[0, 15852, 7, 422, 7, 5, 2341, 78, 631, 11, 5,...</td>\n",
       "      <td>23</td>\n",
       "    </tr>\n",
       "    <tr>\n",
       "      <th>3</th>\n",
       "      <td>4</td>\n",
       "      <td>@OmniJerBear haha should have had #sarcasm at ...</td>\n",
       "      <td>[0, 1039, 673, 119, 5107, 25786, 40237, 46116,...</td>\n",
       "      <td>19</td>\n",
       "    </tr>\n",
       "    <tr>\n",
       "      <th>4</th>\n",
       "      <td>4</td>\n",
       "      <td>Really excited for these last few days of scho...</td>\n",
       "      <td>[0, 30327, 2283, 13, 209, 94, 367, 360, 9, 334...</td>\n",
       "      <td>24</td>\n",
       "    </tr>\n",
       "  </tbody>\n",
       "</table>\n",
       "</div>"
      ],
      "text/plain": [
       "   label                                               text  \\\n",
       "0      1  I just love working for 6.5 hours without a br...   \n",
       "1      1  The happy song does not invoke good feelings. ...   \n",
       "2      3  Having to run to the train first thing in the ...   \n",
       "3      4  @OmniJerBear haha should have had #sarcasm at ...   \n",
       "4      4  Really excited for these last few days of scho...   \n",
       "\n",
       "                                              tokens  n_tok  \n",
       "0  [0, 100, 95, 657, 447, 13, 231, 4, 245, 722, 3...     32  \n",
       "1  [0, 133, 1372, 2214, 473, 45, 32550, 205, 6453...     21  \n",
       "2  [0, 15852, 7, 422, 7, 5, 2341, 78, 631, 11, 5,...     23  \n",
       "3  [0, 1039, 673, 119, 5107, 25786, 40237, 46116,...     19  \n",
       "4  [0, 30327, 2283, 13, 209, 94, 367, 360, 9, 334...     24  "
      ]
     },
     "execution_count": 30,
     "metadata": {},
     "output_type": "execute_result"
    }
   ],
   "source": [
    "df_train.head()"
   ]
  },
  {
   "cell_type": "code",
   "execution_count": 31,
   "metadata": {},
   "outputs": [
    {
     "data": {
      "text/plain": [
       "\"I just love working for 6.5 hours without a break or anything. Especially when I'm on my period and have awful cramps. #NOT\""
      ]
     },
     "execution_count": 31,
     "metadata": {},
     "output_type": "execute_result"
    }
   ],
   "source": [
    "df_train['text'][0]"
   ]
  },
  {
   "cell_type": "code",
   "execution_count": 32,
   "metadata": {},
   "outputs": [
    {
     "data": {
      "text/html": [
       "<div>\n",
       "<style scoped>\n",
       "    .dataframe tbody tr th:only-of-type {\n",
       "        vertical-align: middle;\n",
       "    }\n",
       "\n",
       "    .dataframe tbody tr th {\n",
       "        vertical-align: top;\n",
       "    }\n",
       "\n",
       "    .dataframe thead th {\n",
       "        text-align: right;\n",
       "    }\n",
       "</style>\n",
       "<table border=\"1\" class=\"dataframe\">\n",
       "  <thead>\n",
       "    <tr style=\"text-align: right;\">\n",
       "      <th></th>\n",
       "      <th>label</th>\n",
       "      <th>text</th>\n",
       "      <th>tokens</th>\n",
       "      <th>n_tok</th>\n",
       "    </tr>\n",
       "  </thead>\n",
       "  <tbody>\n",
       "    <tr>\n",
       "      <th>0</th>\n",
       "      <td>2</td>\n",
       "      <td>So great to come back to my dorm and find that...</td>\n",
       "      <td>[0, 2847, 372, 7, 283, 124, 7, 127, 18344, 8, ...</td>\n",
       "      <td>33</td>\n",
       "    </tr>\n",
       "    <tr>\n",
       "      <th>1</th>\n",
       "      <td>3</td>\n",
       "      <td>If jean howie my neighbour is at my mums weddi...</td>\n",
       "      <td>[0, 1106, 1236, 12001, 141, 324, 127, 14915, 1...</td>\n",
       "      <td>31</td>\n",
       "    </tr>\n",
       "    <tr>\n",
       "      <th>2</th>\n",
       "      <td>2</td>\n",
       "      <td>@KTHopkins @MissKatiePrice LOL@ katie hopkins ...</td>\n",
       "      <td>[0, 1039, 530, 3732, 1517, 7327, 787, 22885, 2...</td>\n",
       "      <td>43</td>\n",
       "    </tr>\n",
       "    <tr>\n",
       "      <th>3</th>\n",
       "      <td>2</td>\n",
       "      <td>@stuarteagle QPR? They looked terrible yesterd...</td>\n",
       "      <td>[0, 1039, 620, 41962, 242, 21851, 1209, 4454, ...</td>\n",
       "      <td>22</td>\n",
       "    </tr>\n",
       "    <tr>\n",
       "      <th>4</th>\n",
       "      <td>5</td>\n",
       "      <td>Next! Jamie Foxx ft. 2 Chainz \"Party Ain't a P...</td>\n",
       "      <td>[0, 19192, 328, 6541, 2063, 1178, 16935, 4, 13...</td>\n",
       "      <td>32</td>\n",
       "    </tr>\n",
       "  </tbody>\n",
       "</table>\n",
       "</div>"
      ],
      "text/plain": [
       "   label                                               text  \\\n",
       "0      2  So great to come back to my dorm and find that...   \n",
       "1      3  If jean howie my neighbour is at my mums weddi...   \n",
       "2      2  @KTHopkins @MissKatiePrice LOL@ katie hopkins ...   \n",
       "3      2  @stuarteagle QPR? They looked terrible yesterd...   \n",
       "4      5  Next! Jamie Foxx ft. 2 Chainz \"Party Ain't a P...   \n",
       "\n",
       "                                              tokens  n_tok  \n",
       "0  [0, 2847, 372, 7, 283, 124, 7, 127, 18344, 8, ...     33  \n",
       "1  [0, 1106, 1236, 12001, 141, 324, 127, 14915, 1...     31  \n",
       "2  [0, 1039, 530, 3732, 1517, 7327, 787, 22885, 2...     43  \n",
       "3  [0, 1039, 620, 41962, 242, 21851, 1209, 4454, ...     22  \n",
       "4  [0, 19192, 328, 6541, 2063, 1178, 16935, 4, 13...     32  "
      ]
     },
     "execution_count": 32,
     "metadata": {},
     "output_type": "execute_result"
    }
   ],
   "source": [
    "df_valid.head()"
   ]
  },
  {
   "cell_type": "code",
   "execution_count": 33,
   "metadata": {},
   "outputs": [],
   "source": [
    "class ds_sentiment:\n",
    "    def __init__ (self,df,bs,padlen=64,xvar='tokens',yvar='label',len_var='n_tok',padding_idx=1):\n",
    "        self.x=df[xvar]\n",
    "        self.y=df[yvar]\n",
    "        self.padlen=padlen\n",
    "        self.padding_idx=padding_idx\n",
    "        self.len_var=df[len_var]\n",
    "        self.bs=bs\n",
    "    \n",
    "        self.len_var=self.len_var.clip(0,padlen)\n",
    "    \n",
    "    def pad (self,x):\n",
    "        out=np.ones(self.padlen)*self.padding_idx\n",
    "        out=out.astype(np.int64)\n",
    "        if len(x)>=self.padlen:\n",
    "            out[:]=x[:self.padlen]\n",
    "        else:\n",
    "            out[:len(x)]=x\n",
    "        return out\n",
    "        \n",
    "    def __getitem__(self,idx):\n",
    "        #import pdb\n",
    "        #pdb.set_trace()\n",
    "        return self.pad(self.x.iloc[idx]),self.y.iloc[idx],self.len_var.iloc[idx]\n",
    "    \n",
    "    def __len__(self):\n",
    "        return len(self.x)"
   ]
  },
  {
   "cell_type": "code",
   "execution_count": 34,
   "metadata": {},
   "outputs": [
    {
     "data": {
      "text/plain": [
       "count    8577.000000\n",
       "mean       29.039408\n",
       "std         9.143004\n",
       "min         8.000000\n",
       "25%        22.000000\n",
       "50%        28.000000\n",
       "75%        35.000000\n",
       "max        50.000000\n",
       "Name: n_tok, dtype: float64"
      ]
     },
     "execution_count": 34,
     "metadata": {},
     "output_type": "execute_result"
    }
   ],
   "source": [
    "bs = 10\n",
    "bptt= 70\n",
    "padlen = 50\n",
    "\n",
    "df_train.loc[df_train['n_tok'] > padlen, ['n_tok']] = padlen\n",
    "df_valid.loc[df_valid['n_tok'] > padlen, ['n_tok']] = padlen\n",
    "\n",
    "df_train['n_tok'].describe()"
   ]
  },
  {
   "cell_type": "code",
   "execution_count": 35,
   "metadata": {},
   "outputs": [],
   "source": [
    "dstrain=ds_sentiment(df_train,bs,padlen)\n",
    "dsvalid=ds_sentiment(df_valid,bs,padlen)"
   ]
  },
  {
   "cell_type": "code",
   "execution_count": 36,
   "metadata": {},
   "outputs": [],
   "source": [
    "dltrain = DataLoader(dstrain,bs,True)\n",
    "dlvalid = DataLoader(dsvalid,bs,False)"
   ]
  },
  {
   "cell_type": "code",
   "execution_count": 37,
   "metadata": {},
   "outputs": [],
   "source": [
    "for xb,yb,xlen in dltrain:\n",
    "    break"
   ]
  },
  {
   "cell_type": "code",
   "execution_count": 38,
   "metadata": {},
   "outputs": [
    {
     "data": {
      "text/plain": [
       "(tensor([[    0, 40860,    38,   437,    10,  1508, 10746,   122,     6,  1183,\n",
       "             66,     4,   849,    29,  9636, 16836,     2,     1,     1,     1,\n",
       "              1,     1,     1,     1,     1,     1,     1,     1,     1,     1,\n",
       "              1,     1,     1,     1,     1,     1,     1,     1,     1,     1,\n",
       "              1,     1,     1,     1,     1,     1,     1,     1,     1,     1],\n",
       "         [    0,  5625,    15,   127,   422,    38,    21, 15378,    30,   132,\n",
       "           8516, 17559,    29,     4,    38,  1467,    38,    21,    11,    13,\n",
       "             24,    77,    51,  1340,   162,     8,   554, 16022,  1975,  9997,\n",
       "          41167,   162,     4, 41926,   328,   849,  3654, 17841, 27969,     2,\n",
       "              1,     1,     1,     1,     1,     1,     1,     1,     1,     1],\n",
       "         [    0,   510, 14851,    10,   372,   891,     9,   360,     7,   213,\n",
       "              7,     5,  4105,     4,   849,  3654,   849,  9946,   219, 17841,\n",
       "          10674, 31193, 12736,     2,     1,     1,     1,     1,     1,     1,\n",
       "              1,     1,     1,     1,     1,     1,     1,     1,     1,     1,\n",
       "              1,     1,     1,     1,     1,     1,     1,     1,     1,     1],\n",
       "         [    0,  1039,   387,  1069,  4057, 10653,   627,  1001,   787,   298,\n",
       "            922,   620,  1215,   330,  5236,  7436,  1437,    62,    70,   363,\n",
       "            116,   132,    55,  4133, 17487,   213,   124,   751,   116,   849,\n",
       "           7199,     2,     1,     1,     1,     1,     1,     1,     1,     1,\n",
       "              1,     1,     1,     1,     1,     1,     1,     1,     1,     1],\n",
       "         [    0,  1039,   642,   424,  6658,  1215,  1054,   767,     7,   127,\n",
       "           2138,    42,  2682,  2594,    70,     5,    86,     4,  1437,    20,\n",
       "          24945,     9,   592,   433,    34,  2468,   124,     5, 23416,    98,\n",
       "              7,  1994,     4,     2,     1,     1,     1,     1,     1,     1,\n",
       "              1,     1,     1,     1,     1,     1,     1,     1,     1,     1],\n",
       "         [    0,   104,  9451,    11,  3267,  2494,   127,   964,   310, 12644,\n",
       "          18229,     4,   152,    16,     5,   301,     4,   849,  3654,     2,\n",
       "              1,     1,     1,     1,     1,     1,     1,     1,     1,     1,\n",
       "              1,     1,     1,     1,     1,     1,     1,     1,     1,     1,\n",
       "              1,     1,     1,     1,     1,     1,     1,     1,     1,     1],\n",
       "         [    0,   771,  4057,   216,   402,   116,    38,  4157,  7739,    13,\n",
       "          15734,     4,   849,  1193, 23145,   849,  3654,     2,     1,     1,\n",
       "              1,     1,     1,     1,     1,     1,     1,     1,     1,     1,\n",
       "              1,     1,     1,     1,     1,     1,     1,     1,     1,     1,\n",
       "              1,     1,     1,     1,     1,     1,     1,     1,     1,     1],\n",
       "         [    0, 17809, 20512, 20452,  1478,  1072,     7,   128, 33840,   459,\n",
       "            108,     5,  2526,     9,    39,   165,    18,  1058,  4476, 17809,\n",
       "             12,    24,    18,    45,   101,    52,    33,    10, 10870,     9,\n",
       "          17539,  1527,    24,  5470,   849,   853,  6119,     2,     1,     1,\n",
       "              1,     1,     1,     1,     1,     1,     1,     1,     1,     1],\n",
       "         [    0, 36657,  1089, 24684,     7,   470, 24684,    50,   810,   145,\n",
       "          10601,    25,    10, 10258,    13,     5,  3929,     4,     2,     1,\n",
       "              1,     1,     1,     1,     1,     1,     1,     1,     1,     1,\n",
       "              1,     1,     1,     1,     1,     1,     1,     1,     1,     1,\n",
       "              1,     1,     1,     1,     1,     1,     1,     1,     1,     1],\n",
       "         [    0,   170,   581,    14,    21,    10,  3035,    80,  1946, 16159,\n",
       "           7586,   849,  3654,   596,    64,    75,    38, 30145,  2462,   116,\n",
       "          17841, 15375,  6569, 10674,  4958,     2,     1,     1,     1,     1,\n",
       "              1,     1,     1,     1,     1,     1,     1,     1,     1,     1,\n",
       "              1,     1,     1,     1,     1,     1,     1,     1,     1,     1]]),\n",
       " tensor([2, 6, 2, 4, 5, 3, 2, 5, 3, 3]),\n",
       " tensor([17, 40, 24, 32, 34, 20, 18, 38, 19, 26]))"
      ]
     },
     "execution_count": 38,
     "metadata": {},
     "output_type": "execute_result"
    }
   ],
   "source": [
    "xb, yb, xlen"
   ]
  },
  {
   "cell_type": "code",
   "execution_count": null,
   "metadata": {},
   "outputs": [],
   "source": []
  },
  {
   "cell_type": "code",
   "execution_count": 39,
   "metadata": {},
   "outputs": [],
   "source": [
    "from torch.nn.utils.rnn import pack_padded_sequence, pad_packed_sequence"
   ]
  },
  {
   "cell_type": "code",
   "execution_count": 40,
   "metadata": {},
   "outputs": [],
   "source": [
    "n_emb=768 #650\n",
    "n_hidden=64 #400\n",
    "n_layers= 2 # 2\n",
    "dropout=0.1 # 0.5\n",
    "wd=1e-5\n",
    "bidirectional=True\n",
    "dropout_e=0.2 # 0.5 - changing to 0.4, 0.3 or any dropout value did not make much difference\n",
    "dropout_o=0.1 #0.5\n",
    "n_out=11"
   ]
  },
  {
   "cell_type": "code",
   "execution_count": 41,
   "metadata": {},
   "outputs": [],
   "source": [
    "class sentiment_classifier (nn.Module):\n",
    "    def __init__(self,roberta_model,n_emb,n_hidden,n_layers,bidirectional,bs,device,dropout_e=0.05,dropout=0.5,\\\n",
    "                 dropout_o=0.5,n_out=11,n_filters=100,filter_sizes=[3,4,5]):\n",
    "        super().__init__()\n",
    "        self.roberta_model,self.n_emb,self.n_hidden,self.n_layers,self.bidirectional,self.bs,self.device=\\\n",
    "                            roberta_model,n_emb,n_hidden,n_layers,bidirectional,bs,device\n",
    "        self.n_out,self.n_filters,self.filter_sizes=n_out,n_filters,filter_sizes\n",
    "        self.dropout_e,self.dropout,self.dropout_o=dropout_e,dropout,dropout_o\n",
    "        \n",
    "        self.create_architecture()\n",
    "        self.init_hidden()\n",
    "        self.criterion=nn.CrossEntropyLoss()\n",
    "    \n",
    "    def set_dropouts(self, dropout, dropout_o, dropout_e):\n",
    "        self.dropout, self.dropout_o, self.dropout_e = dropout, dropout_o, dropout_e\n",
    "    \n",
    "    \n",
    "    def freeze_embedding(self):\n",
    "        \n",
    "        for param in self.encoder.parameters():\n",
    "            param.requires_grad = False\n",
    "    \n",
    "         \n",
    "    def unfreeze_embedding(self):\n",
    "        \n",
    "        for param in self.encoder.parameters():\n",
    "            param.requires_grad = True\n",
    "    \n",
    "    def init_hidden(self):\n",
    "        # Initialize hidden\n",
    "        self.hidden=(Variable(torch.zeros(self.n_layers,self.bs,self.n_hidden,requires_grad=False).to(self.device)),\n",
    "                     Variable(torch.zeros(self.n_layers,self.bs,self.n_hidden,requires_grad=False).to(self.device)))\n",
    "    \n",
    "\n",
    "    def create_architecture(self):\n",
    "        \n",
    "        #self.dropout_enc = nn.Dropout(self.dropout_e)\n",
    "        self.encoder = self.roberta_model\n",
    "        \n",
    "        \n",
    "        # LSTM Layer\n",
    "        self.lstm = nn.LSTM(self.n_emb,self.n_hidden,self.n_layers,batch_first=True,dropout=self.dropout,\\\n",
    "                          bidirectional=self.bidirectional)\n",
    "        \n",
    "        # embs are going to be of shape n_batch * n_seq * n_emb\n",
    "        #self.dropout_op = nn.Dropout(self.dropout_o)\n",
    "        \n",
    "        self.max_pool1d = torch.nn.MaxPool1d(50, stride=1)\n",
    "        \n",
    "        self.flat = nn.Flatten()\n",
    "        \n",
    "\n",
    "        self.project = nn.Linear(896,64)\n",
    "        \n",
    "        self.fc = nn.Linear(64,self.n_out)\n",
    "        \n",
    "\n",
    "        \n",
    "    def forward (self,Xb,Yb,Xb_lengths):\n",
    "        \n",
    "        ####RNN PORTION\n",
    "        roberta_out = self.encoder(Xb)\n",
    "        last_hidden_states = roberta_out.last_hidden_state\n",
    "        embs = last_hidden_states\n",
    "        #print('embs : ', embs.shape)\n",
    "        \n",
    "        \n",
    "        #packed_embs = pack_padded_sequence(embs,Xb_lengths.cpu(),batch_first=True, enforce_sorted=False)\n",
    "        \n",
    "        \n",
    "        lstm_out,(hidden,cell)=self.lstm(embs)\n",
    "        #print('lstm_out : ', lstm_out.shape)\n",
    "        \n",
    "        \n",
    "        #lstm_out,lengths=pad_packed_sequence(lstm_out,batch_first=True)\n",
    "        \n",
    "        \n",
    "        \n",
    "        ## Concatenate\n",
    "        catted = torch.cat([embs.permute(0,2,1),lstm_out.permute(0,2,1)],dim=1)\n",
    "        #print('catted : ', catted.shape)\n",
    "        \n",
    "        \n",
    "        ## Pooling\n",
    "        max_pool = self.max_pool1d(catted)\n",
    "        #print('max_pool : ', max_pool.shape)\n",
    "        \n",
    "        \n",
    "        ## Project to latent vectors\n",
    "        latent = self.project(self.flat(max_pool))\n",
    "        #print('latent : ', latent.shape)\n",
    "        \n",
    "        \n",
    "        ## Reshape\n",
    "        #ok = max_pool.permute(0,2,1)\n",
    "        #ok = ok.reshape(ok.size(0),ok.size(1)*ok.size(2))\n",
    "        #print('ok : ', ok.shape)\n",
    "        \n",
    "        \n",
    "        #Final output\n",
    "        preds = self.fc(latent)\n",
    "        \n",
    "\n",
    "        loss = self.criterion(preds,Yb.contiguous().long().view(-1))\n",
    "\n",
    "        \n",
    "        return preds,loss"
   ]
  },
  {
   "cell_type": "code",
   "execution_count": 42,
   "metadata": {},
   "outputs": [],
   "source": [
    "def accuracy_multinomial(preds, actual, device=\"cpu\", cutoff=0.5):\n",
    "    \"\"\"\n",
    "    Returns accuracy per batch, i.e. if you get 8/10 right, this returns 0.8, NOT 8\n",
    "    \"\"\"\n",
    "\n",
    "    #round predictions to the closest integer\n",
    "    ela=F.softmax(preds, dim=1)\n",
    "    preds=ela.max(1)[1]\n",
    "    correct=preds==actual \n",
    "    acc = correct.float().sum()/len(correct)\n",
    "    return acc\n"
   ]
  },
  {
   "cell_type": "code",
   "execution_count": 43,
   "metadata": {},
   "outputs": [],
   "source": [
    "class Learner():\n",
    "    def __init__(self,model,optimizer,metric_fn,device,bptt=12,print_every=5,clip_val=None,\\\n",
    "                 cycle_mult=0,lr_decay=1,wd_mult=1):\n",
    "        self.model,self.optimizer,self.metric_fn,self.device,self.print_every,self.bptt,self.losses,self.clip_val=\\\n",
    "            model,optimizer,metric_fn,device,print_every,bptt,[],clip_val\n",
    "        self.n_epochs=1\n",
    "        self.cycle_mult,self.lr_decay=cycle_mult,lr_decay\n",
    "        self.wd_mult=wd_mult\n",
    "        for param_group in self.optimizer.param_groups:\n",
    "            self.start_lr=param_group['lr']\n",
    "            self.start_wd=param_group['weight_decay']\n",
    "        self.wd=self.start_wd\n",
    "        self.lr=self.start_lr\n",
    "        self.n_epoch=0\n",
    "        self.lrs=[1e-2,5e-3,1e-4,5e-4]\n",
    "        self.preds,self.preds_valid,self.trainY,self.actual=[],[],[],[]\n",
    "        \n",
    "    def fit (self,Xb,Yb,Xlen,mode_train=True):\n",
    "        if mode_train:\n",
    "            self.model.train()\n",
    "        else:\n",
    "            self.model.eval()\n",
    "            \n",
    "        preds,loss=self.model(Xb,Yb,Xlen)\n",
    "        \n",
    "        with torch.no_grad():\n",
    "            acc=self.metric_fn(preds,Yb.view(-1),self.device)\n",
    "            acc=acc.item()\n",
    "            \n",
    "            \n",
    "            if mode_train:\n",
    "                self.trainY.append(Yb.view(-1))\n",
    "                self.preds.append(preds.data)\n",
    "            else:\n",
    "                self.actual.append(Yb.view(-1))\n",
    "                self.preds_valid.append(preds.data)\n",
    "\n",
    "            \n",
    "            del preds\n",
    "        \n",
    "        if mode_train:\n",
    "            if 1==0:\n",
    "                lr =self.lrs[torch.randint(0,4,(1,))]\n",
    "                for param_group in self.optimizer.param_groups:\n",
    "                    param_group['lr']=lr\n",
    "            \n",
    "            self.optimizer.zero_grad()\n",
    "            loss.backward()\n",
    "            self.optimizer.step()\n",
    "        myloss=loss.item()\n",
    "        del loss\n",
    "        \n",
    "        if self.clip_val is not None:\n",
    "            torch.nn.utils.clip_grad_norm_(self.model.parameters(), self.clip_val)\n",
    "        \n",
    "        return myloss, acc\n",
    "    \n",
    "    def lr_find (self,start_lr,end_lr,iterator,n_batch):\n",
    "        losses,lrs=[],[]\n",
    "        ratio=end_lr/start_lr\n",
    "        num_steps=n_batch\n",
    "        lr=start_lr\n",
    "        for i in range(num_steps):            \n",
    "            lr=lr*(end_lr/start_lr)**(1/num_steps)\n",
    "            lrs.append(lr)\n",
    "        self.lrs=lrs\n",
    "        self.run_epoch(iterator,mode_train=True,lrs=lrs)\n",
    "    \n",
    "    def run_epoch(self,iterator,mode_train,lrs=None):\n",
    "        epoch_loss,epoch_acc,i,k=0,0,0,0\n",
    "        self.model.init_hidden()\n",
    "        for Xb,Yb,Xlen in iterator:\n",
    "            Xb=Xb.to(self.device)\n",
    "            Yb=Yb.to(self.device)\n",
    "            Xlen=Xlen.to(self.device)\n",
    "            \n",
    "            if lrs is not None:\n",
    "                lr=lrs[k]\n",
    "                for param_group in self.optimizer.param_groups:\n",
    "                    param_group['lr']=lr \n",
    "            \n",
    "\n",
    "            loss,acc=self.fit(Xb,Yb,Xlen,mode_train)\n",
    "            \n",
    "            if lrs is not None:\n",
    "                self.losses.append(loss)\n",
    "            \n",
    "            \n",
    "            epoch_loss+=loss\n",
    "            epoch_acc+=acc\n",
    "            \n",
    "            k=k+1\n",
    "            if k%self.print_every == 0:\n",
    "                if k:\n",
    "                    print (f'Batch:{k} {epoch_loss/(k)}  {epoch_acc/(k)}')  \n",
    "                    torch.cuda.empty_cache()\n",
    "        epoch_loss=epoch_loss/len(iterator)\n",
    "        epoch_acc=epoch_acc/len(iterator)\n",
    "            \n",
    "        return epoch_loss,epoch_acc\n",
    "    \n",
    "    def plot_lrs(self, n_roll=1):\n",
    "        import seaborn as sns\n",
    "        ax=sns.lineplot(x=self.lrs,y=pd.Series(self.losses).rolling(n_roll).mean())\n",
    "        ax.set_xscale('log')\n",
    "        ax.set_ylabel('Loss')\n",
    "        ax.set_xlabel('Learning Rate')\n",
    "\n",
    "     \n",
    "    def run_epochs(self,dltrain,dlvalid,n_epochs=1):\n",
    "        \n",
    "        if self.cycle_mult > 0:\n",
    "            reset_cycle=self.cycle_mult\n",
    "        \n",
    "        for epoch in range(n_epochs):                \n",
    "\n",
    "            \n",
    "            loss,acc=self.run_epoch(dltrain,True)\n",
    "            lossv,accv=self.run_epoch(dlvalid,mode_train=False)\n",
    "            print (f'Epoch:{epoch} Learning rate {self.lr} Weight Decay {self.wd} Train Loss:{loss} Train Accuracy:{acc} Valid Loss:{lossv} Valid Accuracy:{accv}')\n",
    "        \n",
    "            if self.cycle_mult:\n",
    "                if self.n_epoch==reset_cycle:\n",
    "                    self.lr=self.start_lr\n",
    "                    #self.wd=self.start_wd\n",
    "                    reset_cycle=self.n_epoch+reset_cycle\n",
    "                else:\n",
    "                    self.lr*=(self.lr_decay**self.n_epoch)  \n",
    "                    if self.n_epoch>1:\n",
    "                        self.wd*=self.wd_mult\n",
    "            self.n_epoch+=1\n",
    "                \n",
    "                \n",
    "            for param_group in self.optimizer.param_groups:\n",
    "                param_group['lr']=self.lr\n",
    "                #param_group['weight_decay']=self.wd"
   ]
  },
  {
   "cell_type": "code",
   "execution_count": 44,
   "metadata": {},
   "outputs": [],
   "source": [
    "device=\"cuda:0\""
   ]
  },
  {
   "cell_type": "code",
   "execution_count": 45,
   "metadata": {},
   "outputs": [],
   "source": [
    "model_sentiment=sentiment_classifier (roberta_model,n_emb,n_hidden,n_layers,bidirectional,bs,device,dropout_e,dropout,\\\n",
    "                 dropout_o,n_out=11)\n",
    "model_sentiment=model_sentiment.to(device)"
   ]
  },
  {
   "cell_type": "code",
   "execution_count": 46,
   "metadata": {},
   "outputs": [
    {
     "name": "stdout",
     "output_type": "stream",
     "text": [
      "The model has 125,230,091 trainable parameters\n"
     ]
    }
   ],
   "source": [
    "def count_parameters(model):\n",
    "        return sum(p.numel() for p in model.parameters() if p.requires_grad)\n",
    "print(f'The model has {count_parameters(model_sentiment):,} trainable parameters')"
   ]
  },
  {
   "cell_type": "code",
   "execution_count": 47,
   "metadata": {},
   "outputs": [],
   "source": [
    "optimizer = torch.optim.Adam(model_sentiment.parameters(),lr=2e-5, eps=1e-6, weight_decay=wd)"
   ]
  },
  {
   "cell_type": "code",
   "execution_count": null,
   "metadata": {},
   "outputs": [],
   "source": []
  },
  {
   "cell_type": "code",
   "execution_count": 48,
   "metadata": {},
   "outputs": [],
   "source": [
    "learner = Learner(model_sentiment,optimizer,accuracy_multinomial,device,bptt,100,0.25,cycle_mult=10)"
   ]
  },
  {
   "cell_type": "code",
   "execution_count": 49,
   "metadata": {},
   "outputs": [
    {
     "data": {
      "text/plain": [
       "(1, 1)"
      ]
     },
     "execution_count": 49,
     "metadata": {},
     "output_type": "execute_result"
    }
   ],
   "source": [
    "learner.lr_decay, learner.wd_mult"
   ]
  },
  {
   "cell_type": "code",
   "execution_count": 50,
   "metadata": {},
   "outputs": [],
   "source": [
    "#model_sentiment.freeze_embedding()"
   ]
  },
  {
   "cell_type": "code",
   "execution_count": 51,
   "metadata": {},
   "outputs": [],
   "source": [
    "#model_sentiment.unfreeze_embedding()"
   ]
  },
  {
   "cell_type": "code",
   "execution_count": 134,
   "metadata": {},
   "outputs": [
    {
     "name": "stdout",
     "output_type": "stream",
     "text": [
      "Batch:100 0.9794672471284867  0.6000000071525574\n",
      "Batch:200 0.9657608819752932  0.6100000075250864\n",
      "Batch:300 0.9898218957086404  0.6000000072767337\n",
      "Batch:400 0.9860010497644544  0.6015000076033175\n",
      "Batch:500 0.984073109537363  0.5990000077039004\n",
      "Batch:600 0.9919110686331988  0.5965000075722734\n",
      "Batch:700 0.9990650079718658  0.5940000073931047\n",
      "Batch:800 0.9976757811196149  0.5961250073555857\n",
      "Batch:100 1.5071546304225922  0.37300000615417955\n",
      "Batch:200 1.9387075287103652  0.30800000552088025\n",
      "Batch:300 1.9978224752346674  0.27200000517070294\n",
      "Epoch:0 Learning rate 2e-05 Weight Decay 1e-05 Train Loss:0.9987884940696763 Train Accuracy:0.5963536537836343 Valid Loss:1.9846045870070506 Valid Accuracy:0.27673160706204597\n"
     ]
    }
   ],
   "source": [
    "learner.run_epochs(dltrain,dlvalid,1)"
   ]
  },
  {
   "cell_type": "code",
   "execution_count": null,
   "metadata": {},
   "outputs": [],
   "source": []
  },
  {
   "cell_type": "code",
   "execution_count": 102,
   "metadata": {},
   "outputs": [
    {
     "name": "stdout",
     "output_type": "stream",
     "text": [
      "Batch:100 0.939082071185112  0.6360000079870224\n",
      "Batch:200 0.9373407655954361  0.6365000091493129\n",
      "Batch:300 0.9332508767644564  0.6363333415488402\n",
      "Batch:400 0.9319104117900133  0.6352500082924962\n",
      "Batch:500 0.9410927782654762  0.6278000077903271\n",
      "Batch:600 0.9375270954767863  0.6311666745692491\n",
      "Batch:700 0.9410064971446991  0.6311428649084908\n",
      "Batch:800 0.9434232905879617  0.6297500080801547\n",
      "Batch:100 1.2345005133748055  0.5600000098347664\n",
      "Batch:200 1.6866506744921208  0.4300000075623393\n",
      "Batch:300 1.7293464050690333  0.41866667379935585\n",
      "Epoch:0 Learning rate 2e-05 Weight Decay 1e-05 Train Loss:0.9384517605418647 Train Accuracy:0.6323010404105787 Valid Loss:1.7719357502881927 Valid Accuracy:0.3979798049261474\n"
     ]
    }
   ],
   "source": [
    "learner.run_epochs(dltrain,dlvalid,1) # last save here"
   ]
  },
  {
   "cell_type": "code",
   "execution_count": null,
   "metadata": {},
   "outputs": [],
   "source": []
  },
  {
   "cell_type": "code",
   "execution_count": null,
   "metadata": {},
   "outputs": [],
   "source": []
  },
  {
   "cell_type": "code",
   "execution_count": null,
   "metadata": {},
   "outputs": [],
   "source": []
  },
  {
   "cell_type": "markdown",
   "metadata": {},
   "source": [
    "## Get the cosine similarity metric via Semeval's script"
   ]
  },
  {
   "cell_type": "code",
   "execution_count": 135,
   "metadata": {},
   "outputs": [],
   "source": [
    "df_test = pd.read_csv(\"test_3957_preprocessed.tsv\", sep='\\t')"
   ]
  },
  {
   "cell_type": "code",
   "execution_count": 136,
   "metadata": {},
   "outputs": [
    {
     "data": {
      "text/html": [
       "<div>\n",
       "<style scoped>\n",
       "    .dataframe tbody tr th:only-of-type {\n",
       "        vertical-align: middle;\n",
       "    }\n",
       "\n",
       "    .dataframe tbody tr th {\n",
       "        vertical-align: top;\n",
       "    }\n",
       "\n",
       "    .dataframe thead th {\n",
       "        text-align: right;\n",
       "    }\n",
       "</style>\n",
       "<table border=\"1\" class=\"dataframe\">\n",
       "  <thead>\n",
       "    <tr style=\"text-align: right;\">\n",
       "      <th></th>\n",
       "      <th>id</th>\n",
       "      <th>label</th>\n",
       "      <th>category</th>\n",
       "      <th>text</th>\n",
       "    </tr>\n",
       "  </thead>\n",
       "  <tbody>\n",
       "    <tr>\n",
       "      <th>0</th>\n",
       "      <td>537651335752323073</td>\n",
       "      <td>-3</td>\n",
       "      <td>sarcasm</td>\n",
       "      <td>great come back dorm find roommate rearranged ...</td>\n",
       "    </tr>\n",
       "    <tr>\n",
       "      <th>1</th>\n",
       "      <td>538332513408937986</td>\n",
       "      <td>-2</td>\n",
       "      <td>sarcasm</td>\n",
       "      <td>jean howie neighbour mum wedding make whole da...</td>\n",
       "    </tr>\n",
       "    <tr>\n",
       "      <th>2</th>\n",
       "      <td>538050779824025600</td>\n",
       "      <td>-3</td>\n",
       "      <td>sarcasm</td>\n",
       "      <td>lol katie hopkins u talk shagging married men ...</td>\n",
       "    </tr>\n",
       "    <tr>\n",
       "      <th>3</th>\n",
       "      <td>538017499724279809</td>\n",
       "      <td>-3</td>\n",
       "      <td>sarcasm</td>\n",
       "      <td>qpr looked terrible yesterday ferdinand player</td>\n",
       "    </tr>\n",
       "    <tr>\n",
       "      <th>4</th>\n",
       "      <td>537958766910926848</td>\n",
       "      <td>0</td>\n",
       "      <td>sarcasm</td>\n",
       "      <td>next jamie foxx ft 2 chainz party party tune t...</td>\n",
       "    </tr>\n",
       "  </tbody>\n",
       "</table>\n",
       "</div>"
      ],
      "text/plain": [
       "                   id  label category  \\\n",
       "0  537651335752323073     -3  sarcasm   \n",
       "1  538332513408937986     -2  sarcasm   \n",
       "2  538050779824025600     -3  sarcasm   \n",
       "3  538017499724279809     -3  sarcasm   \n",
       "4  537958766910926848      0  sarcasm   \n",
       "\n",
       "                                                text  \n",
       "0  great come back dorm find roommate rearranged ...  \n",
       "1  jean howie neighbour mum wedding make whole da...  \n",
       "2  lol katie hopkins u talk shagging married men ...  \n",
       "3     qpr looked terrible yesterday ferdinand player  \n",
       "4  next jamie foxx ft 2 chainz party party tune t...  "
      ]
     },
     "execution_count": 136,
     "metadata": {},
     "output_type": "execute_result"
    }
   ],
   "source": [
    "df_test.head()"
   ]
  },
  {
   "cell_type": "code",
   "execution_count": 137,
   "metadata": {},
   "outputs": [
    {
     "data": {
      "text/html": [
       "<div>\n",
       "<style scoped>\n",
       "    .dataframe tbody tr th:only-of-type {\n",
       "        vertical-align: middle;\n",
       "    }\n",
       "\n",
       "    .dataframe tbody tr th {\n",
       "        vertical-align: top;\n",
       "    }\n",
       "\n",
       "    .dataframe thead th {\n",
       "        text-align: right;\n",
       "    }\n",
       "</style>\n",
       "<table border=\"1\" class=\"dataframe\">\n",
       "  <thead>\n",
       "    <tr style=\"text-align: right;\">\n",
       "      <th></th>\n",
       "      <th>label</th>\n",
       "      <th>text</th>\n",
       "      <th>tokens</th>\n",
       "      <th>n_tok</th>\n",
       "    </tr>\n",
       "  </thead>\n",
       "  <tbody>\n",
       "    <tr>\n",
       "      <th>0</th>\n",
       "      <td>2</td>\n",
       "      <td>So great to come back to my dorm and find that...</td>\n",
       "      <td>[0, 2847, 372, 7, 283, 124, 7, 127, 18344, 8, ...</td>\n",
       "      <td>33</td>\n",
       "    </tr>\n",
       "    <tr>\n",
       "      <th>1</th>\n",
       "      <td>3</td>\n",
       "      <td>If jean howie my neighbour is at my mums weddi...</td>\n",
       "      <td>[0, 1106, 1236, 12001, 141, 324, 127, 14915, 1...</td>\n",
       "      <td>31</td>\n",
       "    </tr>\n",
       "    <tr>\n",
       "      <th>2</th>\n",
       "      <td>2</td>\n",
       "      <td>@KTHopkins @MissKatiePrice LOL@ katie hopkins ...</td>\n",
       "      <td>[0, 1039, 530, 3732, 1517, 7327, 787, 22885, 2...</td>\n",
       "      <td>43</td>\n",
       "    </tr>\n",
       "    <tr>\n",
       "      <th>3</th>\n",
       "      <td>2</td>\n",
       "      <td>@stuarteagle QPR? They looked terrible yesterd...</td>\n",
       "      <td>[0, 1039, 620, 41962, 242, 21851, 1209, 4454, ...</td>\n",
       "      <td>22</td>\n",
       "    </tr>\n",
       "    <tr>\n",
       "      <th>4</th>\n",
       "      <td>5</td>\n",
       "      <td>Next! Jamie Foxx ft. 2 Chainz \"Party Ain't a P...</td>\n",
       "      <td>[0, 19192, 328, 6541, 2063, 1178, 16935, 4, 13...</td>\n",
       "      <td>32</td>\n",
       "    </tr>\n",
       "  </tbody>\n",
       "</table>\n",
       "</div>"
      ],
      "text/plain": [
       "   label                                               text  \\\n",
       "0      2  So great to come back to my dorm and find that...   \n",
       "1      3  If jean howie my neighbour is at my mums weddi...   \n",
       "2      2  @KTHopkins @MissKatiePrice LOL@ katie hopkins ...   \n",
       "3      2  @stuarteagle QPR? They looked terrible yesterd...   \n",
       "4      5  Next! Jamie Foxx ft. 2 Chainz \"Party Ain't a P...   \n",
       "\n",
       "                                              tokens  n_tok  \n",
       "0  [0, 2847, 372, 7, 283, 124, 7, 127, 18344, 8, ...     33  \n",
       "1  [0, 1106, 1236, 12001, 141, 324, 127, 14915, 1...     31  \n",
       "2  [0, 1039, 530, 3732, 1517, 7327, 787, 22885, 2...     43  \n",
       "3  [0, 1039, 620, 41962, 242, 21851, 1209, 4454, ...     22  \n",
       "4  [0, 19192, 328, 6541, 2063, 1178, 16935, 4, 13...     32  "
      ]
     },
     "execution_count": 137,
     "metadata": {},
     "output_type": "execute_result"
    }
   ],
   "source": [
    "df_valid.head()"
   ]
  },
  {
   "cell_type": "code",
   "execution_count": 138,
   "metadata": {},
   "outputs": [],
   "source": [
    "df_test['label'] = df_test['label']+5"
   ]
  },
  {
   "cell_type": "code",
   "execution_count": 139,
   "metadata": {},
   "outputs": [
    {
     "data": {
      "text/plain": [
       "True    3957\n",
       "Name: label, dtype: int64"
      ]
     },
     "execution_count": 139,
     "metadata": {},
     "output_type": "execute_result"
    }
   ],
   "source": [
    "(df_test['label'] == df_valid['label']).value_counts()"
   ]
  },
  {
   "cell_type": "code",
   "execution_count": 140,
   "metadata": {},
   "outputs": [
    {
     "data": {
      "text/plain": [
       "(3957, 4)"
      ]
     },
     "execution_count": 140,
     "metadata": {},
     "output_type": "execute_result"
    }
   ],
   "source": [
    "df_test.shape"
   ]
  },
  {
   "cell_type": "code",
   "execution_count": 141,
   "metadata": {},
   "outputs": [],
   "source": [
    "ids = df_test['id']"
   ]
  },
  {
   "cell_type": "code",
   "execution_count": null,
   "metadata": {},
   "outputs": [],
   "source": []
  },
  {
   "cell_type": "code",
   "execution_count": 142,
   "metadata": {},
   "outputs": [],
   "source": [
    "proper_preds_valid = [item.max(1)[1] for item in learner.preds_valid]"
   ]
  },
  {
   "cell_type": "code",
   "execution_count": 143,
   "metadata": {},
   "outputs": [],
   "source": [
    "#find the outputs of our model for the test data\n",
    "\n",
    "from itertools import chain\n",
    "\n",
    "preds_valid=list(chain.from_iterable(proper_preds_valid))[-df_valid.shape[0]:]\n",
    "actual=list(chain.from_iterable(learner.actual))[-df_valid.shape[0]:]\n",
    "\n",
    "preds_valid=[x.item() for x in preds_valid]\n",
    "actual=[x.item() for x in actual]"
   ]
  },
  {
   "cell_type": "code",
   "execution_count": 144,
   "metadata": {},
   "outputs": [
    {
     "data": {
      "text/html": [
       "<div>\n",
       "<style scoped>\n",
       "    .dataframe tbody tr th:only-of-type {\n",
       "        vertical-align: middle;\n",
       "    }\n",
       "\n",
       "    .dataframe tbody tr th {\n",
       "        vertical-align: top;\n",
       "    }\n",
       "\n",
       "    .dataframe thead th {\n",
       "        text-align: right;\n",
       "    }\n",
       "</style>\n",
       "<table border=\"1\" class=\"dataframe\">\n",
       "  <thead>\n",
       "    <tr style=\"text-align: right;\">\n",
       "      <th></th>\n",
       "      <th>label</th>\n",
       "      <th>text</th>\n",
       "      <th>tokens</th>\n",
       "      <th>n_tok</th>\n",
       "    </tr>\n",
       "  </thead>\n",
       "  <tbody>\n",
       "    <tr>\n",
       "      <th>0</th>\n",
       "      <td>2</td>\n",
       "      <td>So great to come back to my dorm and find that...</td>\n",
       "      <td>[0, 2847, 372, 7, 283, 124, 7, 127, 18344, 8, ...</td>\n",
       "      <td>33</td>\n",
       "    </tr>\n",
       "    <tr>\n",
       "      <th>1</th>\n",
       "      <td>3</td>\n",
       "      <td>If jean howie my neighbour is at my mums weddi...</td>\n",
       "      <td>[0, 1106, 1236, 12001, 141, 324, 127, 14915, 1...</td>\n",
       "      <td>31</td>\n",
       "    </tr>\n",
       "    <tr>\n",
       "      <th>2</th>\n",
       "      <td>2</td>\n",
       "      <td>@KTHopkins @MissKatiePrice LOL@ katie hopkins ...</td>\n",
       "      <td>[0, 1039, 530, 3732, 1517, 7327, 787, 22885, 2...</td>\n",
       "      <td>43</td>\n",
       "    </tr>\n",
       "    <tr>\n",
       "      <th>3</th>\n",
       "      <td>2</td>\n",
       "      <td>@stuarteagle QPR? They looked terrible yesterd...</td>\n",
       "      <td>[0, 1039, 620, 41962, 242, 21851, 1209, 4454, ...</td>\n",
       "      <td>22</td>\n",
       "    </tr>\n",
       "    <tr>\n",
       "      <th>4</th>\n",
       "      <td>5</td>\n",
       "      <td>Next! Jamie Foxx ft. 2 Chainz \"Party Ain't a P...</td>\n",
       "      <td>[0, 19192, 328, 6541, 2063, 1178, 16935, 4, 13...</td>\n",
       "      <td>32</td>\n",
       "    </tr>\n",
       "  </tbody>\n",
       "</table>\n",
       "</div>"
      ],
      "text/plain": [
       "   label                                               text  \\\n",
       "0      2  So great to come back to my dorm and find that...   \n",
       "1      3  If jean howie my neighbour is at my mums weddi...   \n",
       "2      2  @KTHopkins @MissKatiePrice LOL@ katie hopkins ...   \n",
       "3      2  @stuarteagle QPR? They looked terrible yesterd...   \n",
       "4      5  Next! Jamie Foxx ft. 2 Chainz \"Party Ain't a P...   \n",
       "\n",
       "                                              tokens  n_tok  \n",
       "0  [0, 2847, 372, 7, 283, 124, 7, 127, 18344, 8, ...     33  \n",
       "1  [0, 1106, 1236, 12001, 141, 324, 127, 14915, 1...     31  \n",
       "2  [0, 1039, 530, 3732, 1517, 7327, 787, 22885, 2...     43  \n",
       "3  [0, 1039, 620, 41962, 242, 21851, 1209, 4454, ...     22  \n",
       "4  [0, 19192, 328, 6541, 2063, 1178, 16935, 4, 13...     32  "
      ]
     },
     "execution_count": 144,
     "metadata": {},
     "output_type": "execute_result"
    }
   ],
   "source": [
    "df_valid.head()"
   ]
  },
  {
   "cell_type": "code",
   "execution_count": 145,
   "metadata": {},
   "outputs": [],
   "source": [
    "import numpy as np\n",
    "preds_valid = np.array(preds_valid)\n",
    "preds_valid = preds_valid - 5"
   ]
  },
  {
   "cell_type": "code",
   "execution_count": 146,
   "metadata": {},
   "outputs": [],
   "source": [
    "\n",
    "my_model_test_outputs = pd.DataFrame()\n",
    "my_model_test_outputs['id'] = ids\n",
    "my_model_test_outputs['output'] = preds_valid"
   ]
  },
  {
   "cell_type": "code",
   "execution_count": 147,
   "metadata": {},
   "outputs": [
    {
     "data": {
      "text/html": [
       "<div>\n",
       "<style scoped>\n",
       "    .dataframe tbody tr th:only-of-type {\n",
       "        vertical-align: middle;\n",
       "    }\n",
       "\n",
       "    .dataframe tbody tr th {\n",
       "        vertical-align: top;\n",
       "    }\n",
       "\n",
       "    .dataframe thead th {\n",
       "        text-align: right;\n",
       "    }\n",
       "</style>\n",
       "<table border=\"1\" class=\"dataframe\">\n",
       "  <thead>\n",
       "    <tr style=\"text-align: right;\">\n",
       "      <th></th>\n",
       "      <th>id</th>\n",
       "      <th>output</th>\n",
       "    </tr>\n",
       "  </thead>\n",
       "  <tbody>\n",
       "    <tr>\n",
       "      <th>0</th>\n",
       "      <td>537651335752323073</td>\n",
       "      <td>-3</td>\n",
       "    </tr>\n",
       "    <tr>\n",
       "      <th>1</th>\n",
       "      <td>538332513408937986</td>\n",
       "      <td>-3</td>\n",
       "    </tr>\n",
       "    <tr>\n",
       "      <th>2</th>\n",
       "      <td>538050779824025600</td>\n",
       "      <td>-3</td>\n",
       "    </tr>\n",
       "    <tr>\n",
       "      <th>3</th>\n",
       "      <td>538017499724279809</td>\n",
       "      <td>-3</td>\n",
       "    </tr>\n",
       "    <tr>\n",
       "      <th>4</th>\n",
       "      <td>537958766910926848</td>\n",
       "      <td>-1</td>\n",
       "    </tr>\n",
       "  </tbody>\n",
       "</table>\n",
       "</div>"
      ],
      "text/plain": [
       "                   id  output\n",
       "0  537651335752323073      -3\n",
       "1  538332513408937986      -3\n",
       "2  538050779824025600      -3\n",
       "3  538017499724279809      -3\n",
       "4  537958766910926848      -1"
      ]
     },
     "execution_count": 147,
     "metadata": {},
     "output_type": "execute_result"
    }
   ],
   "source": [
    "my_model_test_outputs.head()"
   ]
  },
  {
   "cell_type": "code",
   "execution_count": 148,
   "metadata": {},
   "outputs": [],
   "source": [
    "my_model_test_outputs.to_csv(\"exact_try.tsv\", sep=\"\\t\", index=False)    #got cos = 0.82"
   ]
  },
  {
   "cell_type": "markdown",
   "metadata": {},
   "source": [
    "## MSE"
   ]
  },
  {
   "cell_type": "code",
   "execution_count": 149,
   "metadata": {},
   "outputs": [
    {
     "data": {
      "text/plain": [
       "tensor(2.6831)"
      ]
     },
     "execution_count": 149,
     "metadata": {},
     "output_type": "execute_result"
    }
   ],
   "source": [
    "mse = nn.MSELoss()\n",
    "input = torch.tensor(preds_valid)\n",
    "target = torch.tensor((df_test['label']-5).to_numpy())\n",
    "output = mse(input.float(), target.float())\n",
    "output"
   ]
  },
  {
   "cell_type": "code",
   "execution_count": null,
   "metadata": {},
   "outputs": [],
   "source": []
  },
  {
   "cell_type": "code",
   "execution_count": null,
   "metadata": {},
   "outputs": [],
   "source": []
  },
  {
   "cell_type": "code",
   "execution_count": null,
   "metadata": {},
   "outputs": [],
   "source": []
  },
  {
   "cell_type": "code",
   "execution_count": 101,
   "metadata": {},
   "outputs": [],
   "source": [
    "COMBO_PATH = \"C:/Users/Dennis/Desktop/4 trainings/potamias - S15-T11/3. ROBERTA - Potamias/POTAMIAS LATEST EFFORTS/exact_saves\"\n",
    "\n",
    "torch.save (roberta_model,f'{COMBO_PATH}/roberta_model')\n",
    "torch.save(model_sentiment.state_dict(),f'{COMBO_PATH}/model_sentiment_state_dict')\n",
    "torch.save(optimizer.state_dict(),f'{COMBO_PATH}/optimizer_state_dict')\n",
    "torch.save (model_sentiment,f'{COMBO_PATH}/model_sentiment')\n",
    "torch.save (optimizer,f'{COMBO_PATH}/optimizer')\n",
    "torch.save (learner,f'{COMBO_PATH}/learner')"
   ]
  }
 ],
 "metadata": {
  "kernelspec": {
   "display_name": "Python 3",
   "language": "python",
   "name": "python3"
  },
  "language_info": {
   "codemirror_mode": {
    "name": "ipython",
    "version": 3
   },
   "file_extension": ".py",
   "mimetype": "text/x-python",
   "name": "python",
   "nbconvert_exporter": "python",
   "pygments_lexer": "ipython3",
   "version": "3.8.5"
  }
 },
 "nbformat": 4,
 "nbformat_minor": 4
}
